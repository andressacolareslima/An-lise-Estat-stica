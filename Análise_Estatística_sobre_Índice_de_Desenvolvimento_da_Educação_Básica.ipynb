{
  "nbformat": 4,
  "nbformat_minor": 0,
  "metadata": {
    "colab": {
      "provenance": []
    },
    "kernelspec": {
      "name": "python3",
      "display_name": "Python 3"
    },
    "language_info": {
      "name": "python"
    }
  },
  "cells": [
    {
      "cell_type": "markdown",
      "source": [
        "#**Análise Estatística sobre Índice de Desenvolvimento da Educação Básica**\n",
        "> Andressa Lima Colares - 471151\n",
        "\n",
        "**Sobre o Ideb**\n",
        "> O Índice de Desenvolvimento da Educação Básica (Ideb) foi criado em 2007 e reúne, em um só indicador, os resultados de dois conceitos igualmente importantes para a qualidade da educação: o fluxo escolar e as médias de desempenho nas avaliações.\n",
        "\n",
        "**Cobertura Atemporal do Conjunto**\n",
        "> 2005 - 2023\n",
        "\n",
        "\n",
        "**Base de dados**\n",
        "> A tabela utilizada para essa análisa estatística, é encontrada de forma pública e tratada nesse diretório:\n",
        "\n",
        "\n",
        "```\n",
        " https://basedosdados.org/dataset/96eab476-5d30-459b-82be-f888d4d0d6b9?table=bc84dea9-1126-4423-86d2-8835e6b19a72\n",
        "```\n",
        "\n",
        "> A base de dados contém inforamções sobre escolas municipais de educação básica de todo o país.\n",
        "\n",
        "As colunas são:\n",
        "\n",
        "1. `ano `- Ano de referência\n",
        "2. `rede` - Tipo de rede de ensino (total)\n",
        "3. `ensino` - Nível de ensino (e.g., médio)\n",
        "4. `anos_escolares`- Intervalo de anos escolares\n",
        "5. `taxa_aprovacao` - Taxa de aprovação dos estudantes\n",
        "6. `indicador_rendimento` - Indicador de rendimento\n",
        "7. `nota_saeb_matematica` - Nota média em matemática no SAEB\n",
        "8. `nota_saeb_lingua_portuguesa` - Nota média em língua portuguesa no SAEB\n",
        "9. `nota_saeb_media_padronizada` - Média padronizada das notas do SAEB\n",
        "10. `ideb` - Índice de Desenvolvimento da Educação Básica\n",
        "11. `projecao` - Projeção do IDEB para o futuro\n"
      ],
      "metadata": {
        "id": "uf1gbSMBwlCV"
      }
    },
    {
      "cell_type": "markdown",
      "source": [
        "#**Passo a passo para a criação de uma rede neural, baseada nesse diretório**\n",
        "\n",
        " **Passo 1 - Preparação dos Dados**\n",
        "* `Normalizar` os valores numéricos para padronizar as escalas.\n",
        "* `Codificar` as variáveis categóricas (como rede e ensino) em valores numéricos usando One-Hot Encoding.\n",
        "* `Tratar `valores nulos na coluna projecao."
      ],
      "metadata": {
        "id": "ViN4d739zmVj"
      }
    },
    {
      "cell_type": "code",
      "execution_count": 3,
      "metadata": {
        "id": "syw0e_IPwkDA"
      },
      "outputs": [],
      "source": [
        "import pandas as pd\n",
        "\n",
        "# Carregar o dataset\n",
        "data = pd.read_csv('/content/br_inep_ideb_brasil.csv.gz')\n",
        "\n",
        "# Remover linhas onde o IDEB (alvo) está ausente e preencher valores faltantes na projeção com a média\n",
        "data_cleaned = data.dropna(subset=['ideb'])\n",
        "data_cleaned['projecao'].fillna(data_cleaned['projecao'].mean(), inplace=True)\n",
        "\n",
        "# Definir as variáveis de entrada (X) e o alvo (y)\n",
        "X = data_cleaned.drop(columns=['ideb'])\n",
        "y = data_cleaned['ideb']\n"
      ]
    },
    {
      "cell_type": "markdown",
      "source": [
        "**Passo 2 - Pré-processamento dos Dados**  \n",
        "  \n",
        "É necessário `codificar` as colunas categóricas e `padronizar` as colunas numéricas."
      ],
      "metadata": {
        "id": "v9Mehoh91VbB"
      }
    },
    {
      "cell_type": "code",
      "source": [
        "from sklearn.preprocessing import StandardScaler, OneHotEncoder\n",
        "from sklearn.compose import ColumnTransformer\n",
        "from sklearn.model_selection import train_test_split\n",
        "\n",
        "# Colunas categóricas e numéricas\n",
        "categorical_cols = ['rede', 'ensino', 'anos_escolares']\n",
        "numerical_cols = ['ano', 'taxa_aprovacao', 'indicador_rendimento',\n",
        "                  'nota_saeb_matematica', 'nota_saeb_lingua_portuguesa',\n",
        "                  'nota_saeb_media_padronizada', 'projecao']\n",
        "\n",
        "# Pré-processamento: Padronização para numéricos e OneHot para categóricos\n",
        "preprocessor = ColumnTransformer(\n",
        "    transformers=[\n",
        "        ('num', StandardScaler(), numerical_cols),\n",
        "        ('cat', OneHotEncoder(), categorical_cols)\n",
        "    ])\n",
        "\n",
        "# Aplicar pré-processamento\n",
        "X_transformed = preprocessor.fit_transform(X)\n",
        "\n",
        "# Dividir os dados em treino e teste\n",
        "X_train, X_test, y_train, y_test = train_test_split(X_transformed, y, test_size=0.2, random_state=42)\n"
      ],
      "metadata": {
        "id": "p3R-udZE10_D"
      },
      "execution_count": 4,
      "outputs": []
    },
    {
      "cell_type": "markdown",
      "source": [
        "**Passo 3 - Construir a Rede Neural**  \n",
        "  \n",
        "Após as outras etapas concluidas, é necessário construir o modelo de `rede neural` usando o `TensorFlow/Keras`.  \n",
        "  \n",
        "O modelo terá uma camada de entrada, camadas ocultas com funções de ativação ReLU, e uma camada de saída para prever o Ideb"
      ],
      "metadata": {
        "id": "6LMQyDjT1-Nn"
      }
    },
    {
      "cell_type": "code",
      "source": [
        "import tensorflow as tf\n",
        "\n",
        "# Definir a arquitetura da rede neural\n",
        "input_shape = X_train.shape[1]\n",
        "\n",
        "model = tf.keras.Sequential([\n",
        "    tf.keras.layers.Dense(64, activation='relu', input_shape=(input_shape,)),  # Primeira camada oculta\n",
        "    tf.keras.layers.Dense(32, activation='relu'),  # Segunda camada oculta\n",
        "    tf.keras.layers.Dense(1, activation='linear')  # Camada de saída para regressão\n",
        "])\n",
        "\n",
        "# Compilar o modelo\n",
        "model.compile(optimizer='adam', loss='mean_squared_error', metrics=['mean_absolute_error'])\n",
        "\n"
      ],
      "metadata": {
        "id": "c2zayb622aDY"
      },
      "execution_count": 6,
      "outputs": []
    },
    {
      "cell_type": "markdown",
      "source": [
        "**Passo 4 - Treinar o Modelo**\n",
        "\n",
        "Agora, podemos treinar o modelo com o conjunto de treino.\n",
        "\n"
      ],
      "metadata": {
        "id": "P2TBBB532pYt"
      }
    },
    {
      "cell_type": "code",
      "source": [
        "# Treinamento da rede neural\n",
        "history = model.fit(X_train, y_train, epochs=100, batch_size=16, validation_split=0.2, verbose=0)\n"
      ],
      "metadata": {
        "id": "AtAUq8QB233L"
      },
      "execution_count": 7,
      "outputs": []
    },
    {
      "cell_type": "markdown",
      "source": [
        "**Passo 5 - Avaliar o Modelo**  \n",
        "  \n",
        "Após o treinamento, é necessário avaliar o desempenho do modelo no conjunto de teste.\n",
        "\n"
      ],
      "metadata": {
        "id": "6o3Yg0pe2-zZ"
      }
    },
    {
      "cell_type": "code",
      "source": [
        "# Avaliar o modelo com o conjunto de teste\n",
        "test_loss, test_mae = model.evaluate(X_test, y_test, verbose=0)\n",
        "\n",
        "print(f'Mean Absolute Error no conjunto de teste: {test_mae}')\n"
      ],
      "metadata": {
        "colab": {
          "base_uri": "https://localhost:8080/"
        },
        "id": "6JpZC30E3K3d",
        "outputId": "c4fca3db-ba45-4ace-9a1b-7f386473bc35"
      },
      "execution_count": 8,
      "outputs": [
        {
          "output_type": "stream",
          "name": "stdout",
          "text": [
            "Mean Absolute Error no conjunto de teste: 0.13204656541347504\n"
          ]
        }
      ]
    },
    {
      "cell_type": "markdown",
      "source": [
        "**Passo 6 - Resumo do modelo**\n",
        "\n",
        "Por fim, exibir o resumo do modelo para entender a arquitetura final.\n",
        "\n"
      ],
      "metadata": {
        "id": "Xw8DGdX03cBU"
      }
    },
    {
      "cell_type": "code",
      "source": [
        "model.summary()\n"
      ],
      "metadata": {
        "colab": {
          "base_uri": "https://localhost:8080/",
          "height": 255
        },
        "id": "6301-rCe3lGM",
        "outputId": "4cb8bba1-d2e2-44c3-af05-67716386103e"
      },
      "execution_count": 9,
      "outputs": [
        {
          "output_type": "display_data",
          "data": {
            "text/plain": [
              "\u001b[1mModel: \"sequential_1\"\u001b[0m\n"
            ],
            "text/html": [
              "<pre style=\"white-space:pre;overflow-x:auto;line-height:normal;font-family:Menlo,'DejaVu Sans Mono',consolas,'Courier New',monospace\"><span style=\"font-weight: bold\">Model: \"sequential_1\"</span>\n",
              "</pre>\n"
            ]
          },
          "metadata": {}
        },
        {
          "output_type": "display_data",
          "data": {
            "text/plain": [
              "┏━━━━━━━━━━━━━━━━━━━━━━━━━━━━━━━━━━━━━━┳━━━━━━━━━━━━━━━━━━━━━━━━━━━━━┳━━━━━━━━━━━━━━━━━┓\n",
              "┃\u001b[1m \u001b[0m\u001b[1mLayer (type)                        \u001b[0m\u001b[1m \u001b[0m┃\u001b[1m \u001b[0m\u001b[1mOutput Shape               \u001b[0m\u001b[1m \u001b[0m┃\u001b[1m \u001b[0m\u001b[1m        Param #\u001b[0m\u001b[1m \u001b[0m┃\n",
              "┡━━━━━━━━━━━━━━━━━━━━━━━━━━━━━━━━━━━━━━╇━━━━━━━━━━━━━━━━━━━━━━━━━━━━━╇━━━━━━━━━━━━━━━━━┩\n",
              "│ dense_3 (\u001b[38;5;33mDense\u001b[0m)                      │ (\u001b[38;5;45mNone\u001b[0m, \u001b[38;5;34m64\u001b[0m)                  │           \u001b[38;5;34m1,152\u001b[0m │\n",
              "├──────────────────────────────────────┼─────────────────────────────┼─────────────────┤\n",
              "│ dense_4 (\u001b[38;5;33mDense\u001b[0m)                      │ (\u001b[38;5;45mNone\u001b[0m, \u001b[38;5;34m32\u001b[0m)                  │           \u001b[38;5;34m2,080\u001b[0m │\n",
              "├──────────────────────────────────────┼─────────────────────────────┼─────────────────┤\n",
              "│ dense_5 (\u001b[38;5;33mDense\u001b[0m)                      │ (\u001b[38;5;45mNone\u001b[0m, \u001b[38;5;34m1\u001b[0m)                   │              \u001b[38;5;34m33\u001b[0m │\n",
              "└──────────────────────────────────────┴─────────────────────────────┴─────────────────┘\n"
            ],
            "text/html": [
              "<pre style=\"white-space:pre;overflow-x:auto;line-height:normal;font-family:Menlo,'DejaVu Sans Mono',consolas,'Courier New',monospace\">┏━━━━━━━━━━━━━━━━━━━━━━━━━━━━━━━━━━━━━━┳━━━━━━━━━━━━━━━━━━━━━━━━━━━━━┳━━━━━━━━━━━━━━━━━┓\n",
              "┃<span style=\"font-weight: bold\"> Layer (type)                         </span>┃<span style=\"font-weight: bold\"> Output Shape                </span>┃<span style=\"font-weight: bold\">         Param # </span>┃\n",
              "┡━━━━━━━━━━━━━━━━━━━━━━━━━━━━━━━━━━━━━━╇━━━━━━━━━━━━━━━━━━━━━━━━━━━━━╇━━━━━━━━━━━━━━━━━┩\n",
              "│ dense_3 (<span style=\"color: #0087ff; text-decoration-color: #0087ff\">Dense</span>)                      │ (<span style=\"color: #00d7ff; text-decoration-color: #00d7ff\">None</span>, <span style=\"color: #00af00; text-decoration-color: #00af00\">64</span>)                  │           <span style=\"color: #00af00; text-decoration-color: #00af00\">1,152</span> │\n",
              "├──────────────────────────────────────┼─────────────────────────────┼─────────────────┤\n",
              "│ dense_4 (<span style=\"color: #0087ff; text-decoration-color: #0087ff\">Dense</span>)                      │ (<span style=\"color: #00d7ff; text-decoration-color: #00d7ff\">None</span>, <span style=\"color: #00af00; text-decoration-color: #00af00\">32</span>)                  │           <span style=\"color: #00af00; text-decoration-color: #00af00\">2,080</span> │\n",
              "├──────────────────────────────────────┼─────────────────────────────┼─────────────────┤\n",
              "│ dense_5 (<span style=\"color: #0087ff; text-decoration-color: #0087ff\">Dense</span>)                      │ (<span style=\"color: #00d7ff; text-decoration-color: #00d7ff\">None</span>, <span style=\"color: #00af00; text-decoration-color: #00af00\">1</span>)                   │              <span style=\"color: #00af00; text-decoration-color: #00af00\">33</span> │\n",
              "└──────────────────────────────────────┴─────────────────────────────┴─────────────────┘\n",
              "</pre>\n"
            ]
          },
          "metadata": {}
        },
        {
          "output_type": "display_data",
          "data": {
            "text/plain": [
              "\u001b[1m Total params: \u001b[0m\u001b[38;5;34m9,797\u001b[0m (38.27 KB)\n"
            ],
            "text/html": [
              "<pre style=\"white-space:pre;overflow-x:auto;line-height:normal;font-family:Menlo,'DejaVu Sans Mono',consolas,'Courier New',monospace\"><span style=\"font-weight: bold\"> Total params: </span><span style=\"color: #00af00; text-decoration-color: #00af00\">9,797</span> (38.27 KB)\n",
              "</pre>\n"
            ]
          },
          "metadata": {}
        },
        {
          "output_type": "display_data",
          "data": {
            "text/plain": [
              "\u001b[1m Trainable params: \u001b[0m\u001b[38;5;34m3,265\u001b[0m (12.75 KB)\n"
            ],
            "text/html": [
              "<pre style=\"white-space:pre;overflow-x:auto;line-height:normal;font-family:Menlo,'DejaVu Sans Mono',consolas,'Courier New',monospace\"><span style=\"font-weight: bold\"> Trainable params: </span><span style=\"color: #00af00; text-decoration-color: #00af00\">3,265</span> (12.75 KB)\n",
              "</pre>\n"
            ]
          },
          "metadata": {}
        },
        {
          "output_type": "display_data",
          "data": {
            "text/plain": [
              "\u001b[1m Non-trainable params: \u001b[0m\u001b[38;5;34m0\u001b[0m (0.00 B)\n"
            ],
            "text/html": [
              "<pre style=\"white-space:pre;overflow-x:auto;line-height:normal;font-family:Menlo,'DejaVu Sans Mono',consolas,'Courier New',monospace\"><span style=\"font-weight: bold\"> Non-trainable params: </span><span style=\"color: #00af00; text-decoration-color: #00af00\">0</span> (0.00 B)\n",
              "</pre>\n"
            ]
          },
          "metadata": {}
        },
        {
          "output_type": "display_data",
          "data": {
            "text/plain": [
              "\u001b[1m Optimizer params: \u001b[0m\u001b[38;5;34m6,532\u001b[0m (25.52 KB)\n"
            ],
            "text/html": [
              "<pre style=\"white-space:pre;overflow-x:auto;line-height:normal;font-family:Menlo,'DejaVu Sans Mono',consolas,'Courier New',monospace\"><span style=\"font-weight: bold\"> Optimizer params: </span><span style=\"color: #00af00; text-decoration-color: #00af00\">6,532</span> (25.52 KB)\n",
              "</pre>\n"
            ]
          },
          "metadata": {}
        }
      ]
    },
    {
      "cell_type": "markdown",
      "source": [
        "# Explicação de cada passo:\n",
        "* `Carregamento e Limpeza:` Carrega o arquivo CSV, remove valores nulos em ideb e preenche valores ausentes em projecao.\n",
        "* ` Pré-processamento:` Codifica as variáveis categóricas (rede, ensino, etc.) com One-Hot Encoding e padroniza as numéricas (normalização).\n",
        "* `Construção da Rede Neural:` Definimos uma rede com 2 camadas ocultas densas com 64 e 32 neurônios, respectivamente. A última camada tem 1 neurônio porque estamos fazendo uma regressão.\n",
        "* `Treinamento:` O modelo é treinado por 100 épocas, e 20% dos dados de treinamento são usados para validação.\n",
        "* `Avaliação:` O modelo é avaliado no conjunto de teste para calcular o erro absoluto médio (MAE).\n",
        "* `Resumo:` O modelo final é apresentado com seu resumo técnico."
      ],
      "metadata": {
        "id": "T2i4QvJZ3k3m"
      }
    }
  ]
}